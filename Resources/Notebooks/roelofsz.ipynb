{
 "cells": [
  {
   "cell_type": "code",
   "execution_count": 7,
   "metadata": {},
   "outputs": [],
   "source": [
    "import psycopg2\n",
    "import pandas as pd"
   ]
  },
  {
   "cell_type": "code",
   "execution_count": 14,
   "metadata": {},
   "outputs": [
    {
     "name": "stdout",
     "output_type": "stream",
     "text": [
      "Database opened successfully\n",
      "['user_id', 'device_model', 'operating_system', 'app_usage_minutes_per_day', 'screen_time_hours_per_day', 'battery_drain_mah_per_day', 'number_of_apps_installed', 'data_usage_mb_per_day', 'age', 'gender', 'user_behavior_class']\n",
      "Database Closed successfully\n"
     ]
    }
   ],
   "source": [
    "conn_string = \"host='localhost' dbname='phone_usage_db' user='postgres' password='postgres'\"\n",
    "conn = psycopg2.connect(conn_string)\n",
    "\n",
    "print(\"Database opened successfully\")\n",
    "cursor = conn.cursor();\n",
    "query = 'select * from phone_user_behavior'\n",
    "cursor.execute(query)\n",
    "\n",
    "colnames = [desc[0] for desc in cursor.description]\n",
    "\n",
    "\n",
    "print(colnames)\n",
    "\n",
    "\n",
    "phone_df = pd.DataFrame(cursor.fetchall(), columns=colnames)\n",
    "\n",
    "conn.close()\n",
    "\n",
    "print(\"Database Closed successfully\")"
   ]
  },
  {
   "cell_type": "code",
   "execution_count": 16,
   "metadata": {},
   "outputs": [
    {
     "data": {
      "text/plain": [
       "561    18\n",
       "116    18\n",
       "685    18\n",
       "686    18\n",
       "258    18\n",
       "       ..\n",
       "225    59\n",
       "192    59\n",
       "660    59\n",
       "619    59\n",
       "597    59\n",
       "Name: age, Length: 700, dtype: int64"
      ]
     },
     "execution_count": 16,
     "metadata": {},
     "output_type": "execute_result"
    }
   ],
   "source": [
    "phone_df['age'].sort_values()"
   ]
  },
  {
   "cell_type": "code",
   "execution_count": null,
   "metadata": {},
   "outputs": [],
   "source": []
  }
 ],
 "metadata": {
  "kernelspec": {
   "display_name": "dev",
   "language": "python",
   "name": "python3"
  },
  "language_info": {
   "codemirror_mode": {
    "name": "ipython",
    "version": 3
   },
   "file_extension": ".py",
   "mimetype": "text/x-python",
   "name": "python",
   "nbconvert_exporter": "python",
   "pygments_lexer": "ipython3",
   "version": "3.10.14"
  }
 },
 "nbformat": 4,
 "nbformat_minor": 2
}
